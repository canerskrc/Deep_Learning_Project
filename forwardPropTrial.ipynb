{
  "nbformat": 4,
  "nbformat_minor": 0,
  "metadata": {
    "colab": {
      "provenance": [],
      "authorship_tag": "ABX9TyM8URMTHvFPR478oGSs2a/C",
      "include_colab_link": true
    },
    "kernelspec": {
      "name": "python3",
      "display_name": "Python 3"
    },
    "language_info": {
      "name": "python"
    }
  },
  "cells": [
    {
      "cell_type": "markdown",
      "metadata": {
        "id": "view-in-github",
        "colab_type": "text"
      },
      "source": [
        "<a href=\"https://colab.research.google.com/github/canerskrc/Deep_Learning_Project/blob/main/forwardPropTrial.ipynb\" target=\"_parent\"><img src=\"https://colab.research.google.com/assets/colab-badge.svg\" alt=\"Open In Colab\"/></a>"
      ]
    },
    {
      "cell_type": "code",
      "execution_count": null,
      "metadata": {
        "id": "TT3vgN0Z3Ais"
      },
      "outputs": [],
      "source": [
        "import numpy as np\n",
        "import matplotlib.pyplot as plt\n",
        "\n",
        "Nclass = 500\n",
        "\n",
        "X1 = np.random.randn(Nclass, 2) + np.array([0, -2])\n",
        "X2 = np.random.randn(Nclass, 2) + np.array([2, 2])\n",
        "X3 = np.random.randn(Nclass, 2) + np.array([-2, 2])\n",
        "X = np.vstack([X1, X2, X3])\n",
        "\n",
        "Y = np.array([0]*Nclass + [1]*Nclass + [2]*Nclass)\n",
        "\n",
        "plt.scatter(X[:,0], X[:,1], c=Y, s=100, alpha=0.5)\n",
        "plt.show()\n",
        "\n",
        "D = 2\n",
        "M = 3\n",
        "K = 3\n",
        "\n",
        "W1 = np.random.randn(D, M)\n",
        "b1 = np.random.randn(M)\n",
        "W2 = np.random.randn(M, K)\n",
        "b2 = np.random.randn(K)\n",
        "\n",
        "def forward(X, W1, b1, W2, b2):\n",
        "    Z = 1 / (1 + np.exp(-X.dot(W1) - b1))\n",
        "    A = Z.dot(W2) + b2\n",
        "    expA = np.exp(A)\n",
        "    Y = expA / expA.sum(axis=1, keepdims=True)\n",
        "    return Y\n",
        "\n",
        "def classification_rate(Y, P):\n",
        "    n_correct = 0\n",
        "    n_total = 0\n",
        "    for i in range(len(Y)):\n",
        "        n_total += 1\n",
        "        if Y[i] == P[i]:\n",
        "            n_correct += 1\n",
        "    return float(n_correct) / n_total\n",
        "\n",
        "P_Y_given_X = forward(X, W1, b1, W2, b2)\n",
        "p = np.argmax(P_Y_given_X, axis=1)\n",
        "\n",
        "assert(len(p) == len(Y))\n",
        "print(\"Classification rate for randomly chosen weights:\", classification_rate(Y, p))"
      ]
    }
  ]
}